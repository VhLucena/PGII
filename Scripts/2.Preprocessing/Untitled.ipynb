{
 "cells": [
  {
   "cell_type": "code",
   "execution_count": 1,
   "metadata": {},
   "outputs": [],
   "source": [
    "import pandas as pd"
   ]
  },
  {
   "cell_type": "code",
   "execution_count": 2,
   "metadata": {},
   "outputs": [],
   "source": [
    "df = pd.read_csv(\"../../Database/302_TreinoDatabase.csv\")"
   ]
  },
  {
   "cell_type": "code",
   "execution_count": 5,
   "metadata": {
    "scrolled": false
   },
   "outputs": [
    {
     "data": {
      "text/plain": [
       "g08                                                Feminino\n",
       "hiv                                                Reagente\n",
       "m10                                                      No\n",
       "m11                                                      No\n",
       "e36                                                      No\n",
       "d17                                                    NÃ£o\n",
       "d20                                                      No\n",
       "count_drogas                                              3\n",
       "d42                                                     Yes\n",
       "d45                                                     Yes\n",
       "l2                                                       No\n",
       "F2_dic                                                  Sim\n",
       "f16                                                     Yes\n",
       "f21                                                     Yes\n",
       "P1_dic                                                 NÃ£o\n",
       "p11_a                                                   Nao\n",
       "P13_14A                                                 Sim\n",
       "G10_cor_pele                                 Pardo e outros\n",
       "G12_conjugal                                    NÃ£o casado\n",
       "E1_escolaridade                                      Nenhum\n",
       "E10_emprego                              Trabalho Irregular\n",
       "M_doencas                                           Nenhuma\n",
       "F8ABC                        2 ou 3 destes sÃ£o dependentes\n",
       "F9ABC                                           Conta com 1\n",
       "g09_idade                                                30\n",
       "d11                                                      26\n",
       "F40_dic                                                 Sim\n",
       "d03                                                      20\n",
       "D8_9                                                 Nenhum\n",
       "porc_vida_doente                                   0.333333\n",
       "D25B_div_idade                                          NaN\n",
       "D27B_div_idade                                          0.5\n",
       "D28B_div_idade                                    0.0333333\n",
       "D57_div_idade                                      0.566667\n",
       "CTQ_PN_dic1                                           Grave\n",
       "CTQ_PA_dic1                                            Leve\n",
       "CTQ_EN_dic1                                           Grave\n",
       "CTQ_EA_dic1                                            Leve\n",
       "CTQ_SA_dic1                                           Grave\n",
       "abuso_sexual_vida                                       Sim\n",
       "abuso_sexual_infancia                                   Sim\n",
       "abuso_sexual_crack                                      NaN\n",
       "abuso_fisico_vida                                      NÃ£o\n",
       "abuso_fisico_infancia                                  NÃ£o\n",
       "scid_f_tept                                             NaN\n",
       "scid_f_tco                                              NaN\n",
       "scid_psicoticos_dic                                     NaN\n",
       "scid_depressao_dic                                      NaN\n",
       "scid_bipolar_dic                                        NaN\n",
       "scid_alcool_dic                                     Ausente\n",
       "scid_alimentar_dic                                      NaN\n",
       "scid_ansiedade_outros_dic                               NaN\n",
       "ctq_pos_sum                                               7\n",
       "class                                                   Nao\n",
       "Name: 0, dtype: object"
      ]
     },
     "execution_count": 5,
     "metadata": {},
     "output_type": "execute_result"
    }
   ],
   "source": [
    "df.iloc[0]"
   ]
  },
  {
   "cell_type": "code",
   "execution_count": null,
   "metadata": {},
   "outputs": [],
   "source": []
  }
 ],
 "metadata": {
  "kernelspec": {
   "display_name": "Python 3",
   "language": "python",
   "name": "python3"
  },
  "language_info": {
   "codemirror_mode": {
    "name": "ipython",
    "version": 3
   },
   "file_extension": ".py",
   "mimetype": "text/x-python",
   "name": "python",
   "nbconvert_exporter": "python",
   "pygments_lexer": "ipython3",
   "version": "3.6.4"
  }
 },
 "nbformat": 4,
 "nbformat_minor": 2
}
