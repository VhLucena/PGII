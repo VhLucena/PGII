{
 "cells": [
  {
   "cell_type": "code",
   "execution_count": 1,
   "metadata": {},
   "outputs": [],
   "source": [
    "import pandas as pd"
   ]
  },
  {
   "cell_type": "code",
   "execution_count": 8,
   "metadata": {},
   "outputs": [],
   "source": [
    "df = pd.read_csv(\"../../Database/Database.csv\", encoding='latin-1')"
   ]
  },
  {
   "cell_type": "code",
   "execution_count": 10,
   "metadata": {},
   "outputs": [
    {
     "name": "stdout",
     "output_type": "stream",
     "text": [
      "<class 'pandas.core.frame.DataFrame'>\n",
      "RangeIndex: 857 entries, 0 to 856\n",
      "Data columns (total 58 columns):\n",
      "Unnamed: 0          857 non-null int64\n",
      "g08                 853 non-null object\n",
      "h10                 740 non-null object\n",
      "hiv                 765 non-null object\n",
      "m10                 848 non-null object\n",
      "m11                 846 non-null object\n",
      "e36                 843 non-null object\n",
      "d20                 853 non-null object\n",
      "d42                 829 non-null object\n",
      "d45                 831 non-null object\n",
      "l2                  838 non-null object\n",
      "f2                  833 non-null float64\n",
      "f12                 828 non-null object\n",
      "f16                 821 non-null object\n",
      "f21                 821 non-null object\n",
      "f23                 820 non-null object\n",
      "f26                 808 non-null object\n",
      "f29                 809 non-null object\n",
      "f35                 813 non-null object\n",
      "P1_dic              819 non-null object\n",
      "p11_a               814 non-null object\n",
      "P13_14A             813 non-null object\n",
      "p16_a               815 non-null object\n",
      "G10_cor_pele        853 non-null object\n",
      "G12_conjugal        794 non-null object\n",
      "E1_escolaridade     836 non-null object\n",
      "E10_emprego         851 non-null object\n",
      "d17                 838 non-null object\n",
      "L6_dic              112 non-null object\n",
      "P19_dic             695 non-null object\n",
      "M_cronicas          853 non-null float64\n",
      "D23_3cat            833 non-null object\n",
      "F9ABC               834 non-null object\n",
      "F8ABC               832 non-null object\n",
      "F8_9ABC             831 non-null float64\n",
      "Traumas             828 non-null float64\n",
      "g09_idade           814 non-null float64\n",
      "d11                 802 non-null float64\n",
      "f40                 809 non-null float64\n",
      "d03                 819 non-null float64\n",
      "D8_9                832 non-null float64\n",
      "g09_menos_d03       787 non-null float64\n",
      "porc_vida_doente    787 non-null float64\n",
      "D25B_div_idade      806 non-null float64\n",
      "D26B_div_idade      729 non-null float64\n",
      "D27B_div_idade      812 non-null float64\n",
      "D28B_div_idade      779 non-null float64\n",
      "D29B_div_idade      678 non-null float64\n",
      "D57_div_idade       825 non-null float64\n",
      "CTQ_PN_dic2         766 non-null object\n",
      "CTQ_PA_dic2         811 non-null object\n",
      "CTQ_EN_dic2         767 non-null object\n",
      "CTQ_EA_dic2         810 non-null object\n",
      "CTQ_SA_dic2         812 non-null object\n",
      "SCID_bipolar        846 non-null object\n",
      "SCID_depre          846 non-null object\n",
      "SCID_psicotico      846 non-null object\n",
      "SCID_ansi           846 non-null object\n",
      "dtypes: float64(17), int64(1), object(40)\n",
      "memory usage: 388.4+ KB\n"
     ]
    }
   ],
   "source": [
    "df.info()"
   ]
  },
  {
   "cell_type": "code",
   "execution_count": null,
   "metadata": {},
   "outputs": [],
   "source": []
  }
 ],
 "metadata": {
  "kernelspec": {
   "display_name": "Python 3",
   "language": "python",
   "name": "python3"
  },
  "language_info": {
   "codemirror_mode": {
    "name": "ipython",
    "version": 3
   },
   "file_extension": ".py",
   "mimetype": "text/x-python",
   "name": "python",
   "nbconvert_exporter": "python",
   "pygments_lexer": "ipython3",
   "version": "3.6.4"
  }
 },
 "nbformat": 4,
 "nbformat_minor": 2
}
