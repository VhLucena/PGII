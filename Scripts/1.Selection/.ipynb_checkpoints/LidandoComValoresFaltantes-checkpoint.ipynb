{
 "cells": [
  {
   "cell_type": "code",
   "execution_count": null,
   "metadata": {},
   "outputs": [],
   "source": []
  },
  {
   "cell_type": "code",
   "execution_count": 32,
   "metadata": {},
   "outputs": [],
   "source": [
    "import pandas as pd\n",
    "import numpy as np"
   ]
  },
  {
   "cell_type": "code",
   "execution_count": 68,
   "metadata": {},
   "outputs": [],
   "source": [
    "df = pd.read_csv(\"../../Database/201_Database.csv\")"
   ]
  },
  {
   "cell_type": "markdown",
   "metadata": {},
   "source": [
    "---"
   ]
  },
  {
   "cell_type": "markdown",
   "metadata": {},
   "source": [
    "<h3>Tratamento:</h3>\n",
    "- Preencher os missing values com a Moda do atributos\n",
    "\n",
    "<h3>Atributos: </h3>\n",
    "\n",
    "| Atributo | Descrição | Exemplos |                                                                                                                                                                                                              \n",
    "|----------------|-------|-------|\n",
    "|g08          | Genero   | maculino, feminino |\n",
    "|m10          | Tuberculose   | Yes, No |\n",
    "|m11          | Hepatite   | Yes, No |\n",
    "|e36          | Você tem condições financeiras para pagar necessidades básicas como comida, moradia e roupa, para você e para seus dependentes?   | Yes, No |\n",
    "|d20          | Você foi incomodado por fissuras ou desejos intensos de beber?   | Yes, No |\n",
    "|d42          | Você teve sintomas de abstinência quando parou ou diminuiu o uso de alguma droga?   | Yes, No |\n",
    "|d45          | Você tem sido incomodado por fissuras ou desejos de usar?   | Yes, No |\n",
    "|l2          | Na sua vida inteira, você já foi preso?   | Yes, No |\n",
    "|f12          | Além do seu parceiro/outros parentes adultos e amigos íntimos, existe alguém com quem você possa contar caso você realmente precise de ajuda?   | Yes, No |\n",
    "|f16          | Você acha difícil falar sobre os seus sentimentos ou problemas mesmo com pessoas íntimas? (inclui parentes)   | Yes, No |\n",
    "|f21          | Você frequentemente sentiu-se chateado ou com dificuldade para aproveitar o seu tempo livre?   | Yes, No |\n",
    "|f23          | Você já foi fisicamente agredido/abusado por alguém que você conhecia?   | Yes, No |\n",
    "|f26          | Alguma vez você já foi agredido/abusado sexualmente por alguém?   | Yes, No |\n",
    "|f29          | Você alguma vez foi vitima de um crime violento como ser espancado ou agredido?   | Yes, No |\n",
    "|f35          | Você já esteve em uma situação onde você viu alguém sendo morto/espancado/agredido ou muito ferido?   | Yes, No |\n",
    "|p11_a          | Teve alucinações? viu ou ouviu coisas que outras pessoas não viram ou ouviram   | Sim mas somente sob efeito de droga ou em abstinencia, Nao, Sim |\n",
    "|p16_a          | Você já tentou suicídio?   | Sim, Não |\n",
    "|G10_cor_pele          | Cor da pele   | Negro, Branco, Pardo e outros |\n",
    "|G12_conjugal          | Situação conjugal  | Casado, Não casado |\n",
    "|E1_escolaridade          | Escolaridade   | 'Ens.Fundamental', 'Ens.Medio ou Superior', 'Nenhum' |\n",
    "|E10_emprego          |  Emprego | 'Trabalho formal', 'Desempregado'  |\n",
    "|d17          | Você teve qualquer sintoma de abstinência logo após ter diminuído ou parado de beber? | 'Não', 'Não bebe ha 6 meses', 'Sim' |\n",
    "|d11          | Que idade você tinha quando bebeu e sentiu pela primeira vez os efeitos do álcool?   | 16., 12., 15., 14., 19., nan, 20., 13., 17., 11., 18., 10.,  9., 6.,  8., 40.,  1., 27.,  4., 22.,  7., 25., 23., 33., 26., 30., 32., 45., 21., 24.,  5., 41., 28., 29. |\n",
    "|f40          | Quantos filhos você tem? (Seja biológicos ou adotivos)   | 4.,  2.,  3.,  1.,  5.,  0.,  8.,  7.,  6.,  9., 13. |\n",
    "|d03          | Que idade você tinha quando entrou pela primeira vez em um tratamento para álcool/drogas?   | 34., 28., 30., 14., 18., 20., 23., 19., 11., 39., 25., 36., 26., 27., 24., 16., 33., 38., nan, 29., 46., 22., 17., 35., 15.,  1., 48., 31., 21., 41., 32., 43., 45., 42., 50., 47., 37., 13., 12., 44., 52., 40., 10., 49., 55.,  0., 56. |\n",
    "|CTQ_PA_dic2          | Sem descricao   | 'Grave', 'Leve/Moderado' |\n",
    "|CTQ_EA_dic2          | Sem descricao   | 'Grave', 'Leve/Moderado' |\n",
    "|CTQ_SA_dic2          | Sem descricao   | 'Grave', 'Leve/Moderado' |\n",
    "|SCID_bipolar          | Sem descricao   | 'Ausente', 'Presente' |\n",
    "|SCID_depre          | descricao   | 'Ausente', 'Presente' |\n",
    "|SCID_psicotico          | descricao   | 'Ausente', 'Presente' |\n",
    "|SCID_ansi          | descricao   | 'Presente', 'Ausente' |\n",
    "|f16          | Sem descrição   | Não, Sim |\n",
    "|P13_14A          | Sem descricao   | Não, Sim |\n",
    "|P19_dic          | Sem descricao   | 'Sim', 'Não' |"
   ]
  },
  {
   "cell_type": "markdown",
   "metadata": {},
   "source": [
    "-----"
   ]
  },
  {
   "cell_type": "code",
   "execution_count": 64,
   "metadata": {},
   "outputs": [],
   "source": [
    "def replaceByMode(listOfAtributes):\n",
    "    for atribute in listOfAtributes:\n",
    "        moda = df[atribute].mode()[0]\n",
    "        df[atribute].replace(np.NaN, moda, inplace=True)"
   ]
  },
  {
   "cell_type": "code",
   "execution_count": 206,
   "metadata": {},
   "outputs": [],
   "source": [
    "listOfAtributes = ['g08', 'm10', 'm11', 'e36', 'd20', 'd45', 'l2', 'f12', 'f16', 'f21', 'f23', 'f26', 'f29', 'f35', 'p11_a', 'p16_a', 'G10_cor_pele', 'G12_conjugal', 'E1_escolaridade', 'E10_emprego', 'd17', 'd42', 'd11', 'f40', 'd03', 'CTQ_PA_dic2', 'CTQ_EA_dic2', 'CTQ_SA_dic2', 'SCID_bipolar', 'SCID_depre', 'SCID_psicotico', 'SCID_ansi', 'f16', 'P13_14A', 'P19_dic']\n",
    "\n",
    "replaceByMode(listOfAtributes=listOfAtributes)"
   ]
  },
  {
   "cell_type": "markdown",
   "metadata": {},
   "source": [
    "----"
   ]
  },
  {
   "cell_type": "code",
   "execution_count": 208,
   "metadata": {},
   "outputs": [],
   "source": [
    "df.to_csv(\"../../Database/301_Database.csv\", index=False)"
   ]
  },
  {
   "cell_type": "markdown",
   "metadata": {},
   "source": [
    "----"
   ]
  },
  {
   "cell_type": "markdown",
   "metadata": {},
   "source": [
    "<h2>Tratamentos Especiais: </h2>\n",
    "\n",
    "| Atributo | Descrição | Exemplos |                                                                                                                                                                                                              \n",
    "|----------------|-------|-------|\n",
    "|f2          | Quantos amigos verdadeiros você tem?   | Numérico Discreto |\n",
    "|M_cronicas          | Sem descricao   | 0.,  1.,  2.,  3.,  4. |\n",
    "|D23_3cat          | Sem descricao   | 'Muito', 'Levemente', 'Moderado' |\n",
    "|F9ABC          | Sem descricao   | 'Pode contar com 1 destes', 'Pode contar com 2 destes', 'Não conta com parceiro, amigos ou familia', 'Pode contar com 3 destes' |\n",
    "|F8ABC          | Sem descricao   | '1 destes é dependente', '2 destes são dependentes', 'Parceiro, amigos e família não são dependentes', '3 destes são dependentes' |\n",
    "|F8_9ABC          | Sem descricao   | 0.,  1.,  2., -2., -1.,  3. |\n",
    "|Traumas          | Sem descricao   | 2.,  1.,  3.,  0.,  4. |\n",
    "|g09_idade          | Idade   | 35., 28., 34., 29., 37., 41., 18., 40., nan, 27., 45., 36., 30., 24., 26., 39., 38., 33., 46., 50., 48., 32., 49., 20., 51., 25., 23., 47., 43., 31., 53., 42., 44., 22., 19., 21., 57., 52., 68., 55., 59., 56., 54. |\n",
    "|D8_9          | Sem descricao   | 8.,  0.,  5., 25., 15.,  7., 21.,  2., 10.,  1.,  3.,  9., 12., 36.,  4.,  6., 17., 24., 33., 14., 11., 30., 27., 22., 29., 38., 26., 13., 34., 28., 20., 37., 23., 19., 16., 18., 40., 32., 31., 41., 35. |\n",
    "|g09_menos_d03          | Sem descricao   | 1.,  0.,  6.,  7., 27., 20., nan,  8., 10.,  2.,  3., 18., 19., 15., 36., 16., 14., 13.,  5., 32., 11., 25., 17., 22.,  9., 12., 30., 23.,  4., 28., 24., 26., 29., 41., 21., 48., 38., 33., 35. |\n",
    "|porc_vida_doente          | Sem descricao   | Numérico Contínuo |\n",
    "|D25B_div_idade          | Sem descricao   | Numérico Contínuo |\n",
    "|D27B_div_idade          | Sem descricao   | Numérico Contínuo |\n",
    "|D28B_div_idade          | Sem descricao   | Numérico Contínuo |\n",
    "|D57_div_idade          | Sem descricao   | Numérico Contínuo |"
   ]
  },
  {
   "cell_type": "markdown",
   "metadata": {},
   "source": [
    "----"
   ]
  }
 ],
 "metadata": {
  "kernelspec": {
   "display_name": "Python 3",
   "language": "python",
   "name": "python3"
  },
  "language_info": {
   "codemirror_mode": {
    "name": "ipython",
    "version": 3
   },
   "file_extension": ".py",
   "mimetype": "text/x-python",
   "name": "python",
   "nbconvert_exporter": "python",
   "pygments_lexer": "ipython3",
   "version": "3.6.4"
  }
 },
 "nbformat": 4,
 "nbformat_minor": 2
}
