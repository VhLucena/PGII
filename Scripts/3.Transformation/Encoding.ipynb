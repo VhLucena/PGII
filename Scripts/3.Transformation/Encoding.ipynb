{
 "cells": [
  {
   "cell_type": "markdown",
   "metadata": {},
   "source": [
    "## Objetivo:\n",
    "- Codificar os dados para aplicar nos algoritmos de Machine Learning da biblioteca Scikit-Learn\n",
    "- Técnicas utilizadas: One-hot Encoding e Label Encoding"
   ]
  },
  {
   "cell_type": "code",
   "execution_count": 30,
   "metadata": {},
   "outputs": [],
   "source": [
    "import pandas as pd\n",
    "import numpy as np\n",
    "import seaborn as sns\n",
    "import matplotlib.pyplot as plt\n",
    "from sklearn.preprocessing import LabelEncoder\n",
    "from sklearn.preprocessing import OneHotEncoder"
   ]
  },
  {
   "cell_type": "code",
   "execution_count": 2,
   "metadata": {},
   "outputs": [],
   "source": [
    "database_version = \"302\""
   ]
  },
  {
   "cell_type": "code",
   "execution_count": 101,
   "metadata": {},
   "outputs": [],
   "source": [
    "dfTreino = pd.read_csv('../../Database/' + database_version + '_TreinoDatabase.csv')\n",
    "dfTeste = pd.read_csv('../../Database/' + database_version + '_TesteDatabase.csv')"
   ]
  },
  {
   "cell_type": "markdown",
   "metadata": {},
   "source": [
    "---"
   ]
  },
  {
   "cell_type": "code",
   "execution_count": 34,
   "metadata": {},
   "outputs": [
    {
     "ename": "SyntaxError",
     "evalue": "unexpected EOF while parsing (<ipython-input-34-d0886939390b>, line 2)",
     "output_type": "error",
     "traceback": [
      "\u001b[0;36m  File \u001b[0;32m\"<ipython-input-34-d0886939390b>\"\u001b[0;36m, line \u001b[0;32m2\u001b[0m\n\u001b[0;31m    \u001b[0m\n\u001b[0m    ^\u001b[0m\n\u001b[0;31mSyntaxError\u001b[0m\u001b[0;31m:\u001b[0m unexpected EOF while parsing\n"
     ]
    }
   ],
   "source": [
    "def OneHotEncoding(listOfAtributes):\n",
    "    "
   ]
  },
  {
   "cell_type": "markdown",
   "metadata": {},
   "source": [
    "---"
   ]
  },
  {
   "cell_type": "markdown",
   "metadata": {},
   "source": [
    "## Label Encoding"
   ]
  },
  {
   "cell_type": "markdown",
   "metadata": {},
   "source": [
    "Para comparar duas listas"
   ]
  },
  {
   "cell_type": "code",
   "execution_count": 105,
   "metadata": {},
   "outputs": [],
   "source": [
    "def IsEqual(mask, uniqueList):\n",
    "    \n",
    "    if(len(mask) != len(uniqueList)):\n",
    "        return False\n",
    "    \n",
    "    mask.sort()\n",
    "    uniqueList.sort()\n",
    "    \n",
    "    for i in range(len(mask)):\n",
    "        if(mask[i] != uniqueList[i]):\n",
    "            return False\n",
    "        \n",
    "    return True"
   ]
  },
  {
   "cell_type": "code",
   "execution_count": 97,
   "metadata": {},
   "outputs": [],
   "source": [
    "def GetListOfAttributesByUniqueValues(mask):\n",
    "    attributes = list(dfTreino)\n",
    "    listOfAttributes = []\n",
    "\n",
    "    for attr in attributes:\n",
    "        unique = dfTreino[attr].unique()\n",
    "        if(IsEqual(mask, unique)):\n",
    "            listOfAttributes.append(attr)\n",
    "            \n",
    "    return listOfAttributes"
   ]
  },
  {
   "cell_type": "markdown",
   "metadata": {},
   "source": [
    "----"
   ]
  },
  {
   "cell_type": "code",
   "execution_count": 5,
   "metadata": {},
   "outputs": [],
   "source": [
    "def LabelEncodingYesNo(listOfAtributes):\n",
    "    for atribute in listOfAtributes:\n",
    "        dfTreino[atribute].replace(to_replace='No', value=0, inplace=True)\n",
    "        dfTreino[atribute].replace(to_replace='Yes', value=1, inplace=True)\n",
    "        dfTeste[atribute].replace(to_replace='No', value=0, inplace=True)\n",
    "        dfTeste[atribute].replace(to_replace='Yes', value=1, inplace=True)"
   ]
  },
  {
   "cell_type": "code",
   "execution_count": 43,
   "metadata": {},
   "outputs": [],
   "source": [
    "def UnlabelEncodingYesNo(listOfAtributes):\n",
    "    for atribute in listOfAtributes:\n",
    "        dfTreino[atribute].replace(to_replace=0, value='No', inplace=True)\n",
    "        dfTreino[atribute].replace(to_replace=1, value='Yes', inplace=True)\n",
    "        dfTeste[atribute].replace(to_replace=0, value='No', inplace=True)\n",
    "        dfTeste[atribute].replace(to_replace=1, value='Yes', inplace=True)"
   ]
  },
  {
   "cell_type": "code",
   "execution_count": 106,
   "metadata": {
    "scrolled": false
   },
   "outputs": [],
   "source": [
    "listOfAttributes = GetListOfAttributesByUniqueValues(['Yes', 'No'])\n",
    "LabelEncodingYesNo(listOfAttributes)"
   ]
  },
  {
   "cell_type": "markdown",
   "metadata": {},
   "source": [
    "---"
   ]
  },
  {
   "cell_type": "code",
   "execution_count": 118,
   "metadata": {},
   "outputs": [],
   "source": [
    "def LabelEncodingPresenteAusente(listOfAttributes):            \n",
    "    for atribute in listOfAttributes:\n",
    "        dfTreino[atribute].replace(to_replace='Ausente', value=0, inplace=True)\n",
    "        dfTreino[atribute].replace(to_replace='Presente', value=1, inplace=True)\n",
    "        dfTeste[atribute].replace(to_replace='Ausente', value=0, inplace=True)\n",
    "        dfTeste[atribute].replace(to_replace='Presente', value=1, inplace=True)"
   ]
  },
  {
   "cell_type": "code",
   "execution_count": 119,
   "metadata": {},
   "outputs": [],
   "source": [
    "def UnlabelEncodingPresenteAusente(listOfAttributes):\n",
    "    for atribute in listOfAttributes:\n",
    "        dfTreino[atribute].replace(to_replace=0, value='Ausente', inplace=True)\n",
    "        dfTreino[atribute].replace(to_replace=1, value='Presente', inplace=True)\n",
    "        dfTeste[atribute].replace(to_replace=0, value='Ausente', inplace=True)\n",
    "        dfTeste[atribute].replace(to_replace=1, value='Presente', inplace=True)"
   ]
  },
  {
   "cell_type": "code",
   "execution_count": 124,
   "metadata": {},
   "outputs": [],
   "source": [
    "listOfAttributes = GetListOfAttributesByUniqueValues(['Presente', 'Ausente'])\n",
    "LabelEncodingPresenteAusente(listOfAttributes)"
   ]
  },
  {
   "cell_type": "markdown",
   "metadata": {},
   "source": [
    "---"
   ]
  },
  {
   "cell_type": "code",
   "execution_count": 127,
   "metadata": {},
   "outputs": [],
   "source": [
    "def LabelEncodingGraveLeve(listOfAtributes):\n",
    "    for atribute in listOfAtributes:\n",
    "        dfTreino[atribute].replace(to_replace='Leve', value=0, inplace=True)\n",
    "        dfTreino[atribute].replace(to_replace='Grave', value=1, inplace=True)\n",
    "        dfTeste[atribute].replace(to_replace='Leve', value=0, inplace=True)\n",
    "        dfTeste[atribute].replace(to_replace='Grave', value=1, inplace=True)"
   ]
  },
  {
   "cell_type": "code",
   "execution_count": 128,
   "metadata": {},
   "outputs": [],
   "source": [
    "def UnlabelEncodingGraveLeve(listOfAtributes):\n",
    "    for atribute in listOfAtributes:\n",
    "        dfTreino[atribute].replace(to_replace=0, value='Leve', inplace=True)\n",
    "        dfTreino[atribute].replace(to_replace=1, value='Grave', inplace=True)\n",
    "        dfTeste[atribute].replace(to_replace=0, value='Leve', inplace=True)\n",
    "        dfTeste[atribute].replace(to_replace=1, value='Grave', inplace=True)"
   ]
  },
  {
   "cell_type": "code",
   "execution_count": 129,
   "metadata": {},
   "outputs": [],
   "source": [
    "listOfAttributes = GetListOfAttributesByUniqueValues(['Leve', 'Grave'])\n",
    "\n",
    "\n",
    "LabelEncodingPresenteAusente(listOfAtributes)"
   ]
  },
  {
   "cell_type": "markdown",
   "metadata": {},
   "source": [
    "----"
   ]
  },
  {
   "cell_type": "markdown",
   "metadata": {},
   "source": [
    "### Tratamentos Individuais"
   ]
  },
  {
   "cell_type": "markdown",
   "metadata": {},
   "source": [
    "Label D8_9"
   ]
  },
  {
   "cell_type": "code",
   "execution_count": 168,
   "metadata": {},
   "outputs": [],
   "source": [
    "def LabelD8_9():\n",
    "    dfTreino['D8_9'].replace(to_replace='Nenhum', value=0, inplace=True)\n",
    "    dfTreino['D8_9'].replace(to_replace='De 1 a 5 anos', value=1, inplace=True)\n",
    "    dfTreino['D8_9'].replace(to_replace='De 6 a 12 anos', value=2, inplace=True)\n",
    "    dfTreino['D8_9'].replace(to_replace='De 13 a 25 anos', value=3, inplace=True)\n",
    "    dfTreino['D8_9'].replace(to_replace='Mais de 25 anos', value=4, inplace=True)\n",
    "\n",
    "    dfTeste['D8_9'].replace(to_replace='Nenhum', value=0, inplace=True)\n",
    "    dfTeste['D8_9'].replace(to_replace='De 1 a 5 anos', value=1, inplace=True)\n",
    "    dfTeste['D8_9'].replace(to_replace='De 6 a 12 anos', value=2, inplace=True)\n",
    "    dfTeste['D8_9'].replace(to_replace='De 13 a 25 anos', value=3, inplace=True)\n",
    "    dfTeste['D8_9'].replace(to_replace='Mais de 25 anos', value=4, inplace=True)"
   ]
  },
  {
   "cell_type": "markdown",
   "metadata": {},
   "source": [
    "Unlabel D8_9"
   ]
  },
  {
   "cell_type": "code",
   "execution_count": 169,
   "metadata": {},
   "outputs": [],
   "source": [
    "def UnlabelD8_9():\n",
    "    dfTreino['D8_9'].replace(to_replace=0, value='Nenhum', inplace=True)\n",
    "    dfTreino['D8_9'].replace(to_replace=1, value='De 1 a 5 anos', inplace=True)\n",
    "    dfTreino['D8_9'].replace(to_replace=2, value='De 6 a 12 anos', inplace=True)\n",
    "    dfTreino['D8_9'].replace(to_replace=3, value='De 13 a 25 anos', inplace=True)\n",
    "    dfTreino['D8_9'].replace(to_replace=4, value='Mais de 25 anos', inplace=True)\n",
    "\n",
    "    dfTeste['D8_9'].replace(to_replace=0, value='Nenhum', inplace=True)\n",
    "    dfTeste['D8_9'].replace(to_replace=1, value='De 1 a 5 anos', inplace=True)\n",
    "    dfTeste['D8_9'].replace(to_replace=2, value='De 6 a 12 anos', inplace=True)\n",
    "    dfTeste['D8_9'].replace(to_replace=3, value='De 13 a 25 anos', inplace=True)\n",
    "    dfTeste['D8_9'].replace(to_replace=4, value='Mais de 25 anos', inplace=True)"
   ]
  },
  {
   "cell_type": "code",
   "execution_count": null,
   "metadata": {},
   "outputs": [],
   "source": []
  },
  {
   "cell_type": "markdown",
   "metadata": {},
   "source": [
    "######################################################################################################"
   ]
  },
  {
   "cell_type": "markdown",
   "metadata": {},
   "source": [
    "Label Conjugal"
   ]
  },
  {
   "cell_type": "code",
   "execution_count": 170,
   "metadata": {},
   "outputs": [],
   "source": [
    "def LabelConjugal():\n",
    "    dfTreino['G12_conjugal'].replace(to_replace='Nao casado', value=0, inplace=True)\n",
    "    dfTreino['G12_conjugal'].replace(to_replace='Casado', value=1, inplace=True)\n",
    "\n",
    "    dfTeste['G12_conjugal'].replace(to_replace='Nao casado', value=0, inplace=True)\n",
    "    dfTeste['G12_conjugal'].replace(to_replace='Casado', value=1, inplace=True)"
   ]
  },
  {
   "cell_type": "markdown",
   "metadata": {},
   "source": [
    "Unlabel Conjugal"
   ]
  },
  {
   "cell_type": "code",
   "execution_count": 171,
   "metadata": {},
   "outputs": [],
   "source": [
    "def UnlabelConjugal():\n",
    "    dfTreino['G12_conjugal'].replace(to_replace=0, value='Nao casado', inplace=True)\n",
    "    dfTreino['G12_conjugal'].replace(to_replace=1, value='Casado', inplace=True)\n",
    "\n",
    "    dfTeste['G12_conjugal'].replace(to_replace=0, value='Nao casado', inplace=True)\n",
    "    dfTeste['G12_conjugal'].replace(to_replace=1, value='Casado', inplace=True)"
   ]
  },
  {
   "cell_type": "code",
   "execution_count": null,
   "metadata": {},
   "outputs": [],
   "source": []
  },
  {
   "cell_type": "markdown",
   "metadata": {},
   "source": [
    "######################################################################################################"
   ]
  },
  {
   "cell_type": "markdown",
   "metadata": {},
   "source": [
    "Label Escolaridade"
   ]
  },
  {
   "cell_type": "code",
   "execution_count": 172,
   "metadata": {},
   "outputs": [],
   "source": [
    "def LabelEscolaridade():\n",
    "    dfTreino['E1_escolaridade'].replace(to_replace='Nenhum', value=0, inplace=True)\n",
    "    dfTreino['E1_escolaridade'].replace(to_replace='Ens.Fundamental', value=1, inplace=True)\n",
    "    dfTreino['E1_escolaridade'].replace(to_replace='Ens.Medio ou Superior', value=2, inplace=True)\n",
    "\n",
    "    dfTeste['E1_escolaridade'].replace(to_replace='Nenhum', value=0, inplace=True)\n",
    "    dfTeste['E1_escolaridade'].replace(to_replace='Ens.Fundamental', value=1, inplace=True)\n",
    "    dfTeste['E1_escolaridade'].replace(to_replace='Ens.Medio ou Superior', value=2, inplace=True)"
   ]
  },
  {
   "cell_type": "markdown",
   "metadata": {},
   "source": [
    "Unlabel Escolaridade"
   ]
  },
  {
   "cell_type": "code",
   "execution_count": 173,
   "metadata": {},
   "outputs": [],
   "source": [
    "def UnlabelEscolaridade():\n",
    "    dfTreino['E1_escolaridade'].replace(to_replace=0, value='Nenhum', inplace=True)\n",
    "    dfTreino['E1_escolaridade'].replace(to_replace=1, value='Ens.Fundamental', inplace=True)\n",
    "    dfTreino['E1_escolaridade'].replace(to_replace=2, value='Ens.Medio ou Superior', inplace=True)\n",
    "\n",
    "    dfTeste['E1_escolaridade'].replace(to_replace=0, value='Nenhum', inplace=True)\n",
    "    dfTeste['E1_escolaridade'].replace(to_replace=1, value='Ens.Fundamental', inplace=True)\n",
    "    dfTeste['E1_escolaridade'].replace(to_replace=2, value='Ens.Medio ou Superior', inplace=True)"
   ]
  },
  {
   "cell_type": "code",
   "execution_count": null,
   "metadata": {},
   "outputs": [],
   "source": []
  },
  {
   "cell_type": "markdown",
   "metadata": {},
   "source": [
    "######################################################################################################"
   ]
  },
  {
   "cell_type": "markdown",
   "metadata": {},
   "source": [
    "Label D23_3cat"
   ]
  },
  {
   "cell_type": "code",
   "execution_count": 174,
   "metadata": {},
   "outputs": [],
   "source": [
    "def LabelD23_3cat():\n",
    "    dfTreino['D23_3cat'].replace(to_replace='Levemente', value=1, inplace=True)\n",
    "    dfTreino['D23_3cat'].replace(to_replace='Moderado', value=2, inplace=True)\n",
    "    dfTreino['D23_3cat'].replace(to_replace='Muito', value=3, inplace=True)\n",
    "\n",
    "    dfTeste['D23_3cat'].replace(to_replace='Levemente', value=1, inplace=True)\n",
    "    dfTeste['D23_3cat'].replace(to_replace='Moderado', value=2, inplace=True)\n",
    "    dfTeste['D23_3cat'].replace(to_replace='Muito', value=3, inplace=True)"
   ]
  },
  {
   "cell_type": "markdown",
   "metadata": {},
   "source": [
    "Unlabel D23_3cat"
   ]
  },
  {
   "cell_type": "code",
   "execution_count": 175,
   "metadata": {},
   "outputs": [],
   "source": [
    "def UnlabelD23_3cat():\n",
    "    dfTreino['D23_3cat'].replace(to_replace=1, value='Levemente', inplace=True)\n",
    "    dfTreino['D23_3cat'].replace(to_replace=2, value='Moderado', inplace=True)\n",
    "    dfTreino['D23_3cat'].replace(to_replace=3, value='Muito', inplace=True)\n",
    "\n",
    "    dfTeste['D23_3cat'].replace(to_replace=1, value='Levemente', inplace=True)\n",
    "    dfTeste['D23_3cat'].replace(to_replace=2, value='Moderado', inplace=True)\n",
    "    dfTeste['D23_3cat'].replace(to_replace=3, value='Muito', inplace=True)"
   ]
  },
  {
   "cell_type": "code",
   "execution_count": null,
   "metadata": {},
   "outputs": [],
   "source": []
  },
  {
   "cell_type": "markdown",
   "metadata": {},
   "source": [
    "######################################################################################################"
   ]
  },
  {
   "cell_type": "markdown",
   "metadata": {},
   "source": [
    "Label F9ABC"
   ]
  },
  {
   "cell_type": "code",
   "execution_count": 176,
   "metadata": {},
   "outputs": [],
   "source": [
    "def LabelF9ABC():\n",
    "    dfTreino['F9ABC'].replace(to_replace='Nao conta com ninguem', value=0, inplace=True)\n",
    "    dfTreino['F9ABC'].replace(to_replace='Conta com 1', value=1, inplace=True)\n",
    "    dfTreino['F9ABC'].replace(to_replace='Conta com 2', value=2, inplace=True)\n",
    "    dfTreino['F9ABC'].replace(to_replace='Conta com 3', value=3, inplace=True)\n",
    "    dfTreino['F9ABC'].replace(to_replace='Conta com 4', value=4, inplace=True)\n",
    "\n",
    "    dfTeste['F9ABC'].replace(to_replace='Nao conta com ninguem', value=0, inplace=True)\n",
    "    dfTeste['F9ABC'].replace(to_replace='Conta com 1', value=1, inplace=True)\n",
    "    dfTeste['F9ABC'].replace(to_replace='Conta com 2', value=2, inplace=True)\n",
    "    dfTeste['F9ABC'].replace(to_replace='Conta com 3', value=3, inplace=True)\n",
    "    dfTeste['F9ABC'].replace(to_replace='Conta com 4', value=4, inplace=True)"
   ]
  },
  {
   "cell_type": "markdown",
   "metadata": {},
   "source": [
    "Unlabel F9ABC"
   ]
  },
  {
   "cell_type": "code",
   "execution_count": 177,
   "metadata": {},
   "outputs": [],
   "source": [
    "def UnlabelF9ABC():\n",
    "    dfTreino['F9ABC'].replace(to_replace=0, value='Nao conta com ninguem', inplace=True)\n",
    "    dfTreino['F9ABC'].replace(to_replace=1, value='Conta com 1', inplace=True)\n",
    "    dfTreino['F9ABC'].replace(to_replace=2, value='Conta com 2', inplace=True)\n",
    "    dfTreino['F9ABC'].replace(to_replace=3, value='Conta com 3', inplace=True)\n",
    "    dfTreino['F9ABC'].replace(to_replace=4, value='Conta com 4', inplace=True)\n",
    "\n",
    "    dfTeste['F9ABC'].replace(to_replace=0, value='Nao conta com ninguem', inplace=True)\n",
    "    dfTeste['F9ABC'].replace(to_replace=1, value='Conta com 1', inplace=True)\n",
    "    dfTeste['F9ABC'].replace(to_replace=2, value='Conta com 2', inplace=True)\n",
    "    dfTeste['F9ABC'].replace(to_replace=3, value='Conta com 3', inplace=True)\n",
    "    dfTeste['F9ABC'].replace(to_replace=4, value='Conta com 4', inplace=True)"
   ]
  },
  {
   "cell_type": "code",
   "execution_count": null,
   "metadata": {},
   "outputs": [],
   "source": []
  },
  {
   "cell_type": "markdown",
   "metadata": {},
   "source": [
    "######################################################################################################"
   ]
  },
  {
   "cell_type": "markdown",
   "metadata": {},
   "source": [
    "## One-Hot Encoding\n",
    "- g08\n",
    "- hiv\n",
    "- d17\n",
    "- p11_a\n",
    "- G10_cor_pele\n",
    "- E10_emprego\n",
    "- M_doencas\n",
    "- F8ABC\n",
    "- abuso_sexual_crack"
   ]
  },
  {
   "cell_type": "code",
   "execution_count": null,
   "metadata": {},
   "outputs": [],
   "source": []
  },
  {
   "cell_type": "code",
   "execution_count": null,
   "metadata": {},
   "outputs": [],
   "source": []
  },
  {
   "cell_type": "code",
   "execution_count": null,
   "metadata": {},
   "outputs": [],
   "source": []
  },
  {
   "cell_type": "code",
   "execution_count": null,
   "metadata": {},
   "outputs": [],
   "source": []
  },
  {
   "cell_type": "code",
   "execution_count": 51,
   "metadata": {},
   "outputs": [
    {
     "data": {
      "text/plain": [
       "g08                                                          Feminino\n",
       "m10                                                                 0\n",
       "m11                                                                 1\n",
       "e36                                                                 1\n",
       "d20                                                                 0\n",
       "d42                                                                 0\n",
       "d45                                                                 0\n",
       "l2                                                                  0\n",
       "f2                                                                  0\n",
       "f12                                                                 0\n",
       "f16                                                                 1\n",
       "f21                                                                 0\n",
       "f23                                                                 1\n",
       "f26                                                                 1\n",
       "f29                                                                 0\n",
       "f35                                                                 0\n",
       "P1_dic                                                              0\n",
       "p11_a               Sim mas somente sob efeito de droga ou em abst...\n",
       "P13_14A                                                             1\n",
       "p16_a                                                               1\n",
       "G10_cor_pele                                                   Branco\n",
       "G12_conjugal                                               Nao casado\n",
       "E1_escolaridade                                 Ens.Medio ou Superior\n",
       "E10_emprego                                              Desempregado\n",
       "d17                                               Nao bebe ha 6 meses\n",
       "P19_dic                                                             1\n",
       "M_cronicas                                                          1\n",
       "D23_3cat                                                    Levemente\n",
       "F9ABC                                        Pode contar com 1 destes\n",
       "F8ABC                     Parceiro, amigos e famlia no so dependentes\n",
       "F8_9ABC                                                             1\n",
       "Traumas                                                             2\n",
       "g09_idade                                                          48\n",
       "d11                                                                13\n",
       "f40                                                                 2\n",
       "d03                                                                48\n",
       "D8_9                                                                0\n",
       "g09_menos_d03                                                       0\n",
       "porc_vida_doente                                                    0\n",
       "D25B_div_idade                                              0.0416667\n",
       "D27B_div_idade                                               0.208333\n",
       "D28B_div_idade                                              0.0416667\n",
       "D57_div_idade                                                0.104167\n",
       "CTQ_PA_dic2                                             Leve/Moderado\n",
       "CTQ_EA_dic2                                             Leve/Moderado\n",
       "CTQ_SA_dic2                                             Leve/Moderado\n",
       "SCID_bipolar                                                        0\n",
       "SCID_depre                                                          0\n",
       "SCID_psicotico                                                      0\n",
       "SCID_ansi                                                           1\n",
       "Name: 70, dtype: object"
      ]
     },
     "execution_count": 51,
     "metadata": {},
     "output_type": "execute_result"
    }
   ],
   "source": [
    "dfTreino.iloc[70]"
   ]
  },
  {
   "cell_type": "code",
   "execution_count": null,
   "metadata": {},
   "outputs": [],
   "source": []
  },
  {
   "cell_type": "code",
   "execution_count": null,
   "metadata": {},
   "outputs": [],
   "source": [
    "label_encoder = LabelEncoder()\n",
    "label_encoder.fit_transform(dfTreino['F9ABC'])"
   ]
  },
  {
   "cell_type": "code",
   "execution_count": null,
   "metadata": {},
   "outputs": [],
   "source": []
  },
  {
   "cell_type": "code",
   "execution_count": 39,
   "metadata": {},
   "outputs": [
    {
     "name": "stdout",
     "output_type": "stream",
     "text": [
      "         g08  m10  m11  e36  d20  d42  d45  l2  f2  f12  f16  f21  f23  f26  \\\n",
      "0   Feminino    0    0    0    1    1    1   0   0    1    1    0    1    0   \n",
      "1   Feminino    0    0    0    1    0    0   0   2    0    1    1    1    1   \n",
      "2   Feminino    0    1    0    0    1    1   0   2    0    1    0    1    0   \n",
      "3   Feminino    0    0    1    0    1    1   0   4    1    1    1    1    0   \n",
      "4  Masculino    0    0    1    0    1    1   0   2    1    1    0    1    0   \n",
      "5   Feminino    0    0    1    0    0    0   0   0    0    1    1    0    0   \n",
      "6  Masculino    0    0    1    0    0    0   0   3    0    1    0    0    0   \n",
      "7   Feminino    0    0    1    0    1    1   0   0    1    1    1    1    1   \n",
      "8  Masculino    0    1    1    0    0    1   0   3    0    0    0    0    0   \n",
      "9   Feminino    0    0    0    1    1    1   1   0    0    1    0    0    0   \n",
      "\n",
      "   f29  f35  P1_dic                                              p11_a  \\\n",
      "0    0    0       1                                                 No   \n",
      "1    0    0       0                                                 No   \n",
      "2    0    1       0                                                Yes   \n",
      "3    0    0       1                                                Yes   \n",
      "4    1    1       0                                                Yes   \n",
      "5    0    1       0                                                 No   \n",
      "6    0    0       0                                                 No   \n",
      "7    1    1       0                                                Yes   \n",
      "8    0    0       0  Sim mas somente sob efeito de droga ou em abst...   \n",
      "9    0    0       0                                                 No   \n",
      "\n",
      "   P13_14A  p16_a    G10_cor_pele G12_conjugal        E1_escolaridade  \\\n",
      "0        0      1          Branco   Nao casado                 Nenhum   \n",
      "1        1      0  Pardo e outros   Nao casado        Ens.Fundamental   \n",
      "2        0      0           Negro   Nao casado        Ens.Fundamental   \n",
      "3        1      0          Branco       Casado                 Nenhum   \n",
      "4        1      0  Pardo e outros   Nao casado        Ens.Fundamental   \n",
      "5        1      0           Negro       Casado        Ens.Fundamental   \n",
      "6        0      1          Branco       Casado                 Nenhum   \n",
      "7        1      1          Branco       Casado        Ens.Fundamental   \n",
      "8        0      0          Branco       Casado                 Nenhum   \n",
      "9        0      0           Negro       Casado  Ens.Medio ou Superior   \n",
      "\n",
      "       E10_emprego                  d17  P19_dic  M_cronicas   D23_3cat  \\\n",
      "0     Desempregado                  Yes        0           1      Muito   \n",
      "1  Trabalho formal                   No        0           0  Levemente   \n",
      "2     Desempregado  Nao bebe ha 6 meses        1           0  Levemente   \n",
      "3     Desempregado                   No        0           1  Levemente   \n",
      "4  Trabalho formal                   No        0           0      Muito   \n",
      "5     Desempregado                   No        0           0      Muito   \n",
      "6  Trabalho formal  Nao bebe ha 6 meses        0           0  Levemente   \n",
      "7  Trabalho formal                   No        0           0  Levemente   \n",
      "8     Desempregado  Nao bebe ha 6 meses        0           0  Levemente   \n",
      "9     Desempregado                  Yes        0           0  Levemente   \n",
      "\n",
      "                      F9ABC                                        F8ABC  \\\n",
      "0  Pode contar com 2 destes                         1 destes  dependente   \n",
      "1  Pode contar com 3 destes                         1 destes  dependente   \n",
      "2  Pode contar com 2 destes  Parceiro, amigos e famlia no so dependentes   \n",
      "3  Pode contar com 3 destes  Parceiro, amigos e famlia no so dependentes   \n",
      "4  Pode contar com 3 destes  Parceiro, amigos e famlia no so dependentes   \n",
      "5  Pode contar com 2 destes  Parceiro, amigos e famlia no so dependentes   \n",
      "6  Pode contar com 1 destes                         1 destes  dependente   \n",
      "7  Pode contar com 2 destes                      2 destes so dependentes   \n",
      "8  Pode contar com 2 destes                      2 destes so dependentes   \n",
      "9  Pode contar com 1 destes                         1 destes  dependente   \n",
      "\n",
      "   F8_9ABC  Traumas  g09_idade        d11   f40        d03  D8_9  \\\n",
      "0        1        1         48  23.000000  13.0  46.000000    10   \n",
      "1        2        2         25  14.000000   1.0  16.000000     0   \n",
      "2        2        2         18  13.000000   1.0  18.000000     0   \n",
      "3        3        1         33  15.000000   3.0  27.000000     0   \n",
      "4        3        3         24  15.000000   0.0  24.000000     0   \n",
      "5        2        1         31  16.000000   1.0  31.000000     0   \n",
      "6        0        0         33  14.922204   4.0  26.068581     0   \n",
      "7        0        4         29  15.000000   3.0  29.000000     0   \n",
      "8        0        0         25  14.000000   2.0  25.000000     0   \n",
      "9        0        0         29   9.000000   3.0  24.000000     2   \n",
      "\n",
      "   g09_menos_d03  porc_vida_doente  D25B_div_idade  D27B_div_idade  \\\n",
      "0              2          0.041667        0.083333        0.416667   \n",
      "1              9          0.360000        0.800000        0.160000   \n",
      "2              0          0.000000        0.277778        0.222222   \n",
      "3              6          0.181818        0.000000        0.030303   \n",
      "4              0          0.000000        0.233495        0.000000   \n",
      "5              0          0.000000        0.032258        0.096774   \n",
      "6              7          0.194373        0.000000        0.207280   \n",
      "7              0          0.000000        0.034483        0.000000   \n",
      "8              0          0.000000        0.080000        0.080000   \n",
      "9              5          0.172414        0.586207        0.586207   \n",
      "\n",
      "   D28B_div_idade  D57_div_idade    CTQ_PA_dic2    CTQ_EA_dic2    CTQ_SA_dic2  \\\n",
      "0        0.104167       0.562500  Leve/Moderado  Leve/Moderado  Leve/Moderado   \n",
      "1        0.080000       0.880000  Leve/Moderado          Grave  Leve/Moderado   \n",
      "2        0.055556       0.277778  Leve/Moderado  Leve/Moderado  Leve/Moderado   \n",
      "3        0.090909       0.545455  Leve/Moderado          Grave          Grave   \n",
      "4        0.217018       0.375000  Leve/Moderado  Leve/Moderado  Leve/Moderado   \n",
      "5        0.032258       0.483871          Grave          Grave  Leve/Moderado   \n",
      "6        0.000000       0.000000  Leve/Moderado  Leve/Moderado  Leve/Moderado   \n",
      "7        0.034483       0.482759          Grave          Grave          Grave   \n",
      "8        0.280000       0.400000  Leve/Moderado  Leve/Moderado  Leve/Moderado   \n",
      "9        0.689655       0.724138          Grave  Leve/Moderado          Grave   \n",
      "\n",
      "  SCID_bipolar SCID_depre SCID_psicotico SCID_ansi  \n",
      "0      Ausente    Ausente        Ausente  Presente  \n",
      "1      Ausente    Ausente        Ausente  Presente  \n",
      "2      Ausente   Presente        Ausente   Ausente  \n",
      "3      Ausente    Ausente        Ausente  Presente  \n",
      "4      Ausente    Ausente        Ausente   Ausente  \n",
      "5      Ausente    Ausente        Ausente  Presente  \n",
      "6      Ausente    Ausente        Ausente   Ausente  \n",
      "7      Ausente    Ausente        Ausente  Presente  \n",
      "8      Ausente    Ausente        Ausente   Ausente  \n",
      "9      Ausente   Presente        Ausente   Ausente  \n"
     ]
    }
   ],
   "source": [
    "with pd.option_context('display.max_rows', None, 'display.max_columns', None):\n",
    "    print(dfTreino.head(10))"
   ]
  },
  {
   "cell_type": "markdown",
   "metadata": {},
   "source": [
    "---"
   ]
  }
 ],
 "metadata": {
  "kernelspec": {
   "display_name": "Python 3",
   "language": "python",
   "name": "python3"
  },
  "language_info": {
   "codemirror_mode": {
    "name": "ipython",
    "version": 3
   },
   "file_extension": ".py",
   "mimetype": "text/x-python",
   "name": "python",
   "nbconvert_exporter": "python",
   "pygments_lexer": "ipython3",
   "version": "3.6.4"
  }
 },
 "nbformat": 4,
 "nbformat_minor": 2
}
