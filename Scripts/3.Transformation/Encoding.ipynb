{
 "cells": [
  {
   "cell_type": "markdown",
   "metadata": {},
   "source": [
    "## Objetivo:\n",
    "- Codificar os dados para aplicar nos algoritmos de Machine Learning da biblioteca Scikit-Learn\n",
    "- Técnicas utilizadas: One-hot Encoding e Label Encoding"
   ]
  },
  {
   "cell_type": "code",
   "execution_count": 2,
   "metadata": {},
   "outputs": [],
   "source": [
    "import pandas as pd\n",
    "import seaborn as sns\n",
    "import matplotlib.pyplot as plt\n",
    "from sklearn.preprocessing import LabelEncoder\n",
    "from sklearn.preprocessing import OneHotEncoder"
   ]
  },
  {
   "cell_type": "code",
   "execution_count": 3,
   "metadata": {},
   "outputs": [],
   "source": [
    "dfTreino = pd.read_csv('../../Database/301_TreinoDatabase.csv')\n",
    "dfTeste = pd.read_csv('../../Database/301_TesteDatabase.csv')"
   ]
  },
  {
   "cell_type": "markdown",
   "metadata": {},
   "source": [
    "---"
   ]
  },
  {
   "cell_type": "code",
   "execution_count": 4,
   "metadata": {},
   "outputs": [
    {
     "ename": "SyntaxError",
     "evalue": "unexpected EOF while parsing (<ipython-input-4-d0886939390b>, line 2)",
     "output_type": "error",
     "traceback": [
      "\u001b[0;36m  File \u001b[0;32m\"<ipython-input-4-d0886939390b>\"\u001b[0;36m, line \u001b[0;32m2\u001b[0m\n\u001b[0;31m    \u001b[0m\n\u001b[0m    ^\u001b[0m\n\u001b[0;31mSyntaxError\u001b[0m\u001b[0;31m:\u001b[0m unexpected EOF while parsing\n"
     ]
    }
   ],
   "source": [
    "def OneHotEncoding(listOfAtributes):\n",
    "    "
   ]
  },
  {
   "cell_type": "code",
   "execution_count": 15,
   "metadata": {},
   "outputs": [],
   "source": [
    "def LabelEncodingYesNo(listOfAtributes):\n",
    "    for atribute in listOfAtributes:\n",
    "        dfTreino[atribute].replace(to_replace='No', value=0, inplace=True)\n",
    "        dfTreino[atribute].replace(to_replace='Yes', value=1, inplace=True)"
   ]
  },
  {
   "cell_type": "code",
   "execution_count": null,
   "metadata": {},
   "outputs": [],
   "source": [
    "listOfAtributes = ['m10','m11','e36','d20','d42','d45','l2','f12','f16','f21','','','','','','','','','','','','','']"
   ]
  },
  {
   "cell_type": "code",
   "execution_count": 10,
   "metadata": {},
   "outputs": [
    {
     "data": {
      "text/plain": [
       "array([1, 1, 1, 3, 1, 3, 2, 1, 1, 0, 1, 1, 1, 1, 3, 0, 2, 1, 3, 2, 2, 1,\n",
       "       2, 1, 3, 2, 2, 2, 1, 1, 1, 2, 3, 1, 2, 2, 1, 2, 1, 3, 3, 2, 1, 1,\n",
       "       3, 3, 3, 2, 3, 0, 2, 3, 0, 2, 2, 2, 1, 0, 2, 0, 1, 2, 2, 3, 3, 2,\n",
       "       1, 1, 2, 2, 1, 0, 2, 1, 2, 2, 2, 3, 2, 1, 2, 1, 1, 1, 2, 2, 2, 3,\n",
       "       2, 2, 1, 1, 3, 1, 1, 2, 2, 3, 3, 2, 2, 2, 0, 2, 1, 2, 1, 2, 3, 0,\n",
       "       3, 3, 2, 3, 0, 1, 0, 2, 2, 3, 1, 2, 2, 1, 1, 3, 1, 1, 1, 2, 1, 2,\n",
       "       2, 2, 1, 1, 1, 3, 0, 2, 2, 2, 1, 1, 0, 3, 2, 2, 2, 1, 2, 2, 1, 2,\n",
       "       2, 2, 1, 1, 1, 3, 1, 3, 2, 1, 2, 2, 2, 2, 3, 1, 2, 1, 1, 3, 2, 2,\n",
       "       1, 1, 2, 2, 0, 3, 2, 2, 1, 2, 2, 2, 1, 2, 1, 1, 2, 2, 1, 1, 2, 2,\n",
       "       3, 2, 3, 2, 1, 2, 2, 1, 0, 2, 3, 2, 2, 1, 0, 0, 1, 2, 3, 1, 1, 2,\n",
       "       2, 1, 2, 2, 2, 2, 1, 1, 3, 1, 2, 2, 0, 2, 1, 1, 2, 2, 1, 3, 3, 1,\n",
       "       3, 2, 2, 3, 2, 1, 2, 1, 1, 0, 2, 2, 2, 1, 2, 3, 1, 1, 2, 1, 1, 3,\n",
       "       0, 2, 1, 2, 2, 1, 3, 1, 2, 1, 2, 2, 1, 2, 0, 3, 2, 3, 1, 2, 1, 3,\n",
       "       0, 1, 1, 2, 2, 2, 1, 0, 2, 2, 2, 2, 0, 2, 0, 1, 1, 1, 1, 2, 3, 2,\n",
       "       2, 2, 2, 2, 3, 1, 2, 1, 2, 0, 1, 1, 2, 2, 1, 2, 2, 2, 3, 2, 1, 2,\n",
       "       2, 2, 2, 3, 1, 2, 1, 2, 2, 3, 2, 2, 1, 2, 2, 2, 3, 3, 1, 2, 2, 2,\n",
       "       1, 2, 0, 2, 1, 0, 1, 2, 0, 1, 1, 1, 1, 3, 1, 2, 1, 1, 2, 1, 0, 3,\n",
       "       3, 0, 2, 0, 2, 1, 3, 1, 1, 2, 1, 3, 3, 1, 2, 0, 2, 1, 1, 2, 3, 2,\n",
       "       0, 2, 2, 2, 2, 2, 0, 2, 1, 2, 2, 1, 3, 2, 0, 2, 1, 1, 3, 1, 2, 2,\n",
       "       1, 2, 1, 2, 1, 2, 0, 3, 0, 2, 2, 1, 0, 1, 3, 2, 0, 1, 2, 1, 3, 1,\n",
       "       1, 1, 2, 2, 1, 0, 2, 2, 0, 1, 2, 1, 1, 3, 1, 1, 3, 2, 2, 1, 1, 1,\n",
       "       2, 2, 1, 2, 1, 1, 2, 1, 1, 2, 1, 2, 2, 1, 0, 2, 1, 2, 2, 2, 1, 3,\n",
       "       0, 1, 1, 1, 2, 1, 3, 1, 2, 1, 2, 2, 1, 2, 3, 2, 3, 2, 1, 3, 3, 3,\n",
       "       2, 3, 2, 2, 3, 2, 3, 2, 3, 2, 2, 3, 2, 2, 2, 2, 1, 2, 3, 3, 1, 2,\n",
       "       1, 1, 3, 3, 0, 3, 2, 2, 1, 1, 1, 2, 1, 3, 1, 3, 0, 3, 1, 2, 3, 1,\n",
       "       1, 3, 2, 2, 1, 1, 2, 3, 1, 1, 3, 1, 0, 1, 2, 2, 1, 2, 2, 2, 2, 1,\n",
       "       2, 1, 2, 2, 2, 1, 1, 2, 3, 3, 1, 1, 1, 3, 2, 2, 0, 1, 2, 1, 2, 2,\n",
       "       0, 1, 1, 2, 1, 2, 2, 1, 0, 3, 0, 3, 3, 2, 1, 0, 0, 2, 1, 2, 1, 2,\n",
       "       2, 1, 0, 2, 0, 2, 0, 2, 2, 1, 2, 3, 3, 1, 2, 2, 2, 1, 2, 2, 3, 1,\n",
       "       0, 2, 1, 2, 1, 2, 1, 3, 1, 1, 3, 2, 2, 3])"
      ]
     },
     "execution_count": 10,
     "metadata": {},
     "output_type": "execute_result"
    }
   ],
   "source": [
    "label_encoder = LabelEncoder()\n",
    "label_encoder.fit_transform(dfTreino['F9ABC'])"
   ]
  },
  {
   "cell_type": "code",
   "execution_count": null,
   "metadata": {},
   "outputs": [],
   "source": []
  },
  {
   "cell_type": "code",
   "execution_count": null,
   "metadata": {},
   "outputs": [],
   "source": []
  },
  {
   "cell_type": "markdown",
   "metadata": {},
   "source": [
    "---"
   ]
  }
 ],
 "metadata": {
  "kernelspec": {
   "display_name": "Python 3",
   "language": "python",
   "name": "python3"
  },
  "language_info": {
   "codemirror_mode": {
    "name": "ipython",
    "version": 3
   },
   "file_extension": ".py",
   "mimetype": "text/x-python",
   "name": "python",
   "nbconvert_exporter": "python",
   "pygments_lexer": "ipython3",
   "version": "3.6.4"
  }
 },
 "nbformat": 4,
 "nbformat_minor": 2
}
