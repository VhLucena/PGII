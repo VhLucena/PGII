{
 "cells": [
  {
   "cell_type": "markdown",
   "metadata": {},
   "source": [
    "## Objetivo:\n",
    "- Codificar os dados para aplicar nos algoritmos de Machine Learning da biblioteca Scikit-Learn\n",
    "- Técnicas utilizadas: One-hot Encoding e Label Encoding"
   ]
  },
  {
   "cell_type": "code",
   "execution_count": 261,
   "metadata": {},
   "outputs": [],
   "source": [
    "import pandas as pd\n",
    "import numpy as np\n",
    "import seaborn as sns\n",
    "import matplotlib.pyplot as plt\n",
    "from sklearn.preprocessing import LabelEncoder\n",
    "from sklearn.preprocessing import OneHotEncoder"
   ]
  },
  {
   "cell_type": "code",
   "execution_count": 262,
   "metadata": {},
   "outputs": [],
   "source": [
    "database_version = \"302\""
   ]
  },
  {
   "cell_type": "code",
   "execution_count": 303,
   "metadata": {},
   "outputs": [],
   "source": [
    "dfTreino = pd.read_csv('../../Database/' + database_version + '_TreinoDatabase.csv')\n",
    "dfTeste = pd.read_csv('../../Database/' + database_version + '_TesteDatabase.csv')"
   ]
  },
  {
   "cell_type": "markdown",
   "metadata": {},
   "source": [
    "---"
   ]
  },
  {
   "cell_type": "markdown",
   "metadata": {},
   "source": [
    "---"
   ]
  },
  {
   "cell_type": "markdown",
   "metadata": {},
   "source": [
    "## Label Encoding"
   ]
  },
  {
   "cell_type": "markdown",
   "metadata": {},
   "source": [
    "Para comparar duas listas"
   ]
  },
  {
   "cell_type": "code",
   "execution_count": 264,
   "metadata": {},
   "outputs": [],
   "source": [
    "def IsEqual(mask, uniqueList):\n",
    "    \n",
    "    if(len(mask) != len(uniqueList)):\n",
    "        return False\n",
    "    \n",
    "    mask.sort()\n",
    "    uniqueList.sort()\n",
    "    \n",
    "    for i in range(len(mask)):\n",
    "        if(mask[i] != uniqueList[i]):\n",
    "            return False\n",
    "        \n",
    "    return True"
   ]
  },
  {
   "cell_type": "code",
   "execution_count": 265,
   "metadata": {},
   "outputs": [],
   "source": [
    "def GetListOfAttributesByUniqueValues(mask):\n",
    "    attributes = list(dfTreino)\n",
    "    listOfAttributes = []\n",
    "\n",
    "    for attr in attributes:\n",
    "        unique = dfTreino[attr].unique()\n",
    "        if(IsEqual(mask, unique)):\n",
    "            listOfAttributes.append(attr)\n",
    "            \n",
    "    return listOfAttributes"
   ]
  },
  {
   "cell_type": "markdown",
   "metadata": {},
   "source": [
    "----"
   ]
  },
  {
   "cell_type": "code",
   "execution_count": 266,
   "metadata": {},
   "outputs": [],
   "source": [
    "def LabelEncodingYesNo(listOfAtributes):\n",
    "    for atribute in listOfAtributes:\n",
    "        dfTreino[atribute].replace(to_replace='No', value=0, inplace=True)\n",
    "        dfTreino[atribute].replace(to_replace='Yes', value=1, inplace=True)\n",
    "        dfTeste[atribute].replace(to_replace='No', value=0, inplace=True)\n",
    "        dfTeste[atribute].replace(to_replace='Yes', value=1, inplace=True)"
   ]
  },
  {
   "cell_type": "code",
   "execution_count": 267,
   "metadata": {},
   "outputs": [],
   "source": [
    "def UnlabelEncodingYesNo(listOfAtributes):\n",
    "    for atribute in listOfAtributes:\n",
    "        dfTreino[atribute].replace(to_replace=0, value='No', inplace=True)\n",
    "        dfTreino[atribute].replace(to_replace=1, value='Yes', inplace=True)\n",
    "        dfTeste[atribute].replace(to_replace=0, value='No', inplace=True)\n",
    "        dfTeste[atribute].replace(to_replace=1, value='Yes', inplace=True)"
   ]
  },
  {
   "cell_type": "code",
   "execution_count": 268,
   "metadata": {
    "scrolled": false
   },
   "outputs": [],
   "source": [
    "listOfAttributes = GetListOfAttributesByUniqueValues(['Yes', 'No'])\n",
    "\n",
    "LabelEncodingYesNo(listOfAttributes)"
   ]
  },
  {
   "cell_type": "markdown",
   "metadata": {},
   "source": [
    "---"
   ]
  },
  {
   "cell_type": "code",
   "execution_count": 269,
   "metadata": {},
   "outputs": [],
   "source": [
    "def LabelEncodingPresenteAusente(listOfAttributes):            \n",
    "    for atribute in listOfAttributes:\n",
    "        dfTreino[atribute].replace(to_replace='Ausente', value=0, inplace=True)\n",
    "        dfTreino[atribute].replace(to_replace='Presente', value=1, inplace=True)\n",
    "        dfTeste[atribute].replace(to_replace='Ausente', value=0, inplace=True)\n",
    "        dfTeste[atribute].replace(to_replace='Presente', value=1, inplace=True)"
   ]
  },
  {
   "cell_type": "code",
   "execution_count": 270,
   "metadata": {},
   "outputs": [],
   "source": [
    "def UnlabelEncodingPresenteAusente(listOfAttributes):\n",
    "    for atribute in listOfAttributes:\n",
    "        dfTreino[atribute].replace(to_replace=0, value='Ausente', inplace=True)\n",
    "        dfTreino[atribute].replace(to_replace=1, value='Presente', inplace=True)\n",
    "        dfTeste[atribute].replace(to_replace=0, value='Ausente', inplace=True)\n",
    "        dfTeste[atribute].replace(to_replace=1, value='Presente', inplace=True)"
   ]
  },
  {
   "cell_type": "code",
   "execution_count": 271,
   "metadata": {},
   "outputs": [],
   "source": [
    "listOfAttributes = GetListOfAttributesByUniqueValues(['Presente', 'Ausente'])\n",
    "\n",
    "LabelEncodingPresenteAusente(listOfAttributes)"
   ]
  },
  {
   "cell_type": "markdown",
   "metadata": {},
   "source": [
    "---"
   ]
  },
  {
   "cell_type": "code",
   "execution_count": 272,
   "metadata": {},
   "outputs": [],
   "source": [
    "def LabelEncodingGraveLeve(listOfAtributes):\n",
    "    for atribute in listOfAtributes:\n",
    "        dfTreino[atribute].replace(to_replace='Leve', value=0, inplace=True)\n",
    "        dfTreino[atribute].replace(to_replace='Grave', value=1, inplace=True)\n",
    "        dfTeste[atribute].replace(to_replace='Leve', value=0, inplace=True)\n",
    "        dfTeste[atribute].replace(to_replace='Grave', value=1, inplace=True)"
   ]
  },
  {
   "cell_type": "code",
   "execution_count": 273,
   "metadata": {},
   "outputs": [],
   "source": [
    "def UnlabelEncodingGraveLeve(listOfAtributes):\n",
    "    for atribute in listOfAtributes:\n",
    "        dfTreino[atribute].replace(to_replace=0, value='Leve', inplace=True)\n",
    "        dfTreino[atribute].replace(to_replace=1, value='Grave', inplace=True)\n",
    "        dfTeste[atribute].replace(to_replace=0, value='Leve', inplace=True)\n",
    "        dfTeste[atribute].replace(to_replace=1, value='Grave', inplace=True)"
   ]
  },
  {
   "cell_type": "code",
   "execution_count": 274,
   "metadata": {},
   "outputs": [],
   "source": [
    "listOfAttributes = GetListOfAttributesByUniqueValues(['Leve', 'Grave'])\n",
    "\n",
    "\n",
    "LabelEncodingPresenteAusente(listOfAtributes)"
   ]
  },
  {
   "cell_type": "markdown",
   "metadata": {},
   "source": [
    "----"
   ]
  },
  {
   "cell_type": "markdown",
   "metadata": {},
   "source": [
    "### Tratamentos Individuais"
   ]
  },
  {
   "cell_type": "markdown",
   "metadata": {},
   "source": [
    "Label D8_9"
   ]
  },
  {
   "cell_type": "code",
   "execution_count": 275,
   "metadata": {},
   "outputs": [],
   "source": [
    "def LabelD8_9():\n",
    "    dfTreino['D8_9'].replace(to_replace='Nenhum', value=0, inplace=True)\n",
    "    dfTreino['D8_9'].replace(to_replace='De 1 a 5 anos', value=1, inplace=True)\n",
    "    dfTreino['D8_9'].replace(to_replace='De 6 a 12 anos', value=2, inplace=True)\n",
    "    dfTreino['D8_9'].replace(to_replace='De 13 a 25 anos', value=3, inplace=True)\n",
    "    dfTreino['D8_9'].replace(to_replace='Mais de 25 anos', value=4, inplace=True)\n",
    "\n",
    "    dfTeste['D8_9'].replace(to_replace='Nenhum', value=0, inplace=True)\n",
    "    dfTeste['D8_9'].replace(to_replace='De 1 a 5 anos', value=1, inplace=True)\n",
    "    dfTeste['D8_9'].replace(to_replace='De 6 a 12 anos', value=2, inplace=True)\n",
    "    dfTeste['D8_9'].replace(to_replace='De 13 a 25 anos', value=3, inplace=True)\n",
    "    dfTeste['D8_9'].replace(to_replace='Mais de 25 anos', value=4, inplace=True)"
   ]
  },
  {
   "cell_type": "markdown",
   "metadata": {},
   "source": [
    "Unlabel D8_9"
   ]
  },
  {
   "cell_type": "code",
   "execution_count": 276,
   "metadata": {},
   "outputs": [],
   "source": [
    "def UnlabelD8_9():\n",
    "    dfTreino['D8_9'].replace(to_replace=0, value='Nenhum', inplace=True)\n",
    "    dfTreino['D8_9'].replace(to_replace=1, value='De 1 a 5 anos', inplace=True)\n",
    "    dfTreino['D8_9'].replace(to_replace=2, value='De 6 a 12 anos', inplace=True)\n",
    "    dfTreino['D8_9'].replace(to_replace=3, value='De 13 a 25 anos', inplace=True)\n",
    "    dfTreino['D8_9'].replace(to_replace=4, value='Mais de 25 anos', inplace=True)\n",
    "\n",
    "    dfTeste['D8_9'].replace(to_replace=0, value='Nenhum', inplace=True)\n",
    "    dfTeste['D8_9'].replace(to_replace=1, value='De 1 a 5 anos', inplace=True)\n",
    "    dfTeste['D8_9'].replace(to_replace=2, value='De 6 a 12 anos', inplace=True)\n",
    "    dfTeste['D8_9'].replace(to_replace=3, value='De 13 a 25 anos', inplace=True)\n",
    "    dfTeste['D8_9'].replace(to_replace=4, value='Mais de 25 anos', inplace=True)"
   ]
  },
  {
   "cell_type": "code",
   "execution_count": 277,
   "metadata": {},
   "outputs": [],
   "source": [
    "LabelD8_9()"
   ]
  },
  {
   "cell_type": "markdown",
   "metadata": {},
   "source": [
    "######################################################################################################"
   ]
  },
  {
   "cell_type": "markdown",
   "metadata": {},
   "source": [
    "Label Conjugal"
   ]
  },
  {
   "cell_type": "code",
   "execution_count": 278,
   "metadata": {},
   "outputs": [],
   "source": [
    "def LabelConjugal():\n",
    "    dfTreino['G12_conjugal'].replace(to_replace='Nao casado', value=0, inplace=True)\n",
    "    dfTreino['G12_conjugal'].replace(to_replace='Casado', value=1, inplace=True)\n",
    "\n",
    "    dfTeste['G12_conjugal'].replace(to_replace='Nao casado', value=0, inplace=True)\n",
    "    dfTeste['G12_conjugal'].replace(to_replace='Casado', value=1, inplace=True)"
   ]
  },
  {
   "cell_type": "markdown",
   "metadata": {},
   "source": [
    "Unlabel Conjugal"
   ]
  },
  {
   "cell_type": "code",
   "execution_count": 279,
   "metadata": {},
   "outputs": [],
   "source": [
    "def UnlabelConjugal():\n",
    "    dfTreino['G12_conjugal'].replace(to_replace=0, value='Nao casado', inplace=True)\n",
    "    dfTreino['G12_conjugal'].replace(to_replace=1, value='Casado', inplace=True)\n",
    "\n",
    "    dfTeste['G12_conjugal'].replace(to_replace=0, value='Nao casado', inplace=True)\n",
    "    dfTeste['G12_conjugal'].replace(to_replace=1, value='Casado', inplace=True)"
   ]
  },
  {
   "cell_type": "code",
   "execution_count": 280,
   "metadata": {},
   "outputs": [],
   "source": [
    "LabelConjugal()"
   ]
  },
  {
   "cell_type": "markdown",
   "metadata": {},
   "source": [
    "######################################################################################################"
   ]
  },
  {
   "cell_type": "markdown",
   "metadata": {},
   "source": [
    "Label Escolaridade"
   ]
  },
  {
   "cell_type": "code",
   "execution_count": 281,
   "metadata": {},
   "outputs": [],
   "source": [
    "def LabelEscolaridade():\n",
    "    dfTreino['E1_escolaridade'].replace(to_replace='Nenhum', value=0, inplace=True)\n",
    "    dfTreino['E1_escolaridade'].replace(to_replace='Ens.Fundamental', value=1, inplace=True)\n",
    "    dfTreino['E1_escolaridade'].replace(to_replace='Ens.Medio ou Superior', value=2, inplace=True)\n",
    "\n",
    "    dfTeste['E1_escolaridade'].replace(to_replace='Nenhum', value=0, inplace=True)\n",
    "    dfTeste['E1_escolaridade'].replace(to_replace='Ens.Fundamental', value=1, inplace=True)\n",
    "    dfTeste['E1_escolaridade'].replace(to_replace='Ens.Medio ou Superior', value=2, inplace=True)"
   ]
  },
  {
   "cell_type": "markdown",
   "metadata": {},
   "source": [
    "Unlabel Escolaridade"
   ]
  },
  {
   "cell_type": "code",
   "execution_count": 282,
   "metadata": {},
   "outputs": [],
   "source": [
    "def UnlabelEscolaridade():\n",
    "    dfTreino['E1_escolaridade'].replace(to_replace=0, value='Nenhum', inplace=True)\n",
    "    dfTreino['E1_escolaridade'].replace(to_replace=1, value='Ens.Fundamental', inplace=True)\n",
    "    dfTreino['E1_escolaridade'].replace(to_replace=2, value='Ens.Medio ou Superior', inplace=True)\n",
    "\n",
    "    dfTeste['E1_escolaridade'].replace(to_replace=0, value='Nenhum', inplace=True)\n",
    "    dfTeste['E1_escolaridade'].replace(to_replace=1, value='Ens.Fundamental', inplace=True)\n",
    "    dfTeste['E1_escolaridade'].replace(to_replace=2, value='Ens.Medio ou Superior', inplace=True)"
   ]
  },
  {
   "cell_type": "code",
   "execution_count": 283,
   "metadata": {},
   "outputs": [],
   "source": [
    "LabelEscolaridade()"
   ]
  },
  {
   "cell_type": "markdown",
   "metadata": {},
   "source": [
    "######################################################################################################"
   ]
  },
  {
   "cell_type": "markdown",
   "metadata": {},
   "source": [
    "Label F9ABC"
   ]
  },
  {
   "cell_type": "code",
   "execution_count": 284,
   "metadata": {},
   "outputs": [],
   "source": [
    "def LabelF9ABC():\n",
    "    dfTreino['F9ABC'].replace(to_replace='Nao conta com ninguem', value=0, inplace=True)\n",
    "    dfTreino['F9ABC'].replace(to_replace='Conta com 1', value=1, inplace=True)\n",
    "    dfTreino['F9ABC'].replace(to_replace='Conta com 2', value=2, inplace=True)\n",
    "    dfTreino['F9ABC'].replace(to_replace='Conta com 3', value=3, inplace=True)\n",
    "    dfTreino['F9ABC'].replace(to_replace='Conta com 4', value=4, inplace=True)\n",
    "\n",
    "    dfTeste['F9ABC'].replace(to_replace='Nao conta com ninguem', value=0, inplace=True)\n",
    "    dfTeste['F9ABC'].replace(to_replace='Conta com 1', value=1, inplace=True)\n",
    "    dfTeste['F9ABC'].replace(to_replace='Conta com 2', value=2, inplace=True)\n",
    "    dfTeste['F9ABC'].replace(to_replace='Conta com 3', value=3, inplace=True)\n",
    "    dfTeste['F9ABC'].replace(to_replace='Conta com 4', value=4, inplace=True)"
   ]
  },
  {
   "cell_type": "markdown",
   "metadata": {},
   "source": [
    "Unlabel F9ABC"
   ]
  },
  {
   "cell_type": "code",
   "execution_count": 285,
   "metadata": {},
   "outputs": [],
   "source": [
    "def UnlabelF9ABC():\n",
    "    dfTreino['F9ABC'].replace(to_replace=0, value='Nao conta com ninguem', inplace=True)\n",
    "    dfTreino['F9ABC'].replace(to_replace=1, value='Conta com 1', inplace=True)\n",
    "    dfTreino['F9ABC'].replace(to_replace=2, value='Conta com 2', inplace=True)\n",
    "    dfTreino['F9ABC'].replace(to_replace=3, value='Conta com 3', inplace=True)\n",
    "    dfTreino['F9ABC'].replace(to_replace=4, value='Conta com 4', inplace=True)\n",
    "\n",
    "    dfTeste['F9ABC'].replace(to_replace=0, value='Nao conta com ninguem', inplace=True)\n",
    "    dfTeste['F9ABC'].replace(to_replace=1, value='Conta com 1', inplace=True)\n",
    "    dfTeste['F9ABC'].replace(to_replace=2, value='Conta com 2', inplace=True)\n",
    "    dfTeste['F9ABC'].replace(to_replace=3, value='Conta com 3', inplace=True)\n",
    "    dfTeste['F9ABC'].replace(to_replace=4, value='Conta com 4', inplace=True)"
   ]
  },
  {
   "cell_type": "code",
   "execution_count": 286,
   "metadata": {},
   "outputs": [],
   "source": [
    "LabelF9ABC()"
   ]
  },
  {
   "cell_type": "markdown",
   "metadata": {},
   "source": [
    "######################################################################################################"
   ]
  },
  {
   "cell_type": "markdown",
   "metadata": {},
   "source": [
    "## One-Hot Encoding\n",
    "- g08\n",
    "- hiv\n",
    "- d17\n",
    "- p11_a\n",
    "- G10_cor_pele\n",
    "- E10_emprego\n",
    "- M_doencas\n",
    "- F8ABC\n",
    "- abuso_sexual_crack"
   ]
  },
  {
   "cell_type": "code",
   "execution_count": 314,
   "metadata": {},
   "outputs": [],
   "source": [
    "def OneHotEncoding(listOfAttributes):\n",
    "    global dfTreino\n",
    "    global dfTeste\n",
    "    for attr in listOfAttributes:\n",
    "        df = pd.get_dummies(dfTreino[attr], prefix=attr)\n",
    "        dfTreino = pd.concat([df, dfTreino], axis=1)\n",
    "        \n",
    "        df = pd.get_dummies(dfTeste[attr], prefix=attr)\n",
    "        dfTeste = pd.concat([df, dfTeste], axis=1)"
   ]
  },
  {
   "cell_type": "code",
   "execution_count": 315,
   "metadata": {},
   "outputs": [],
   "source": [
    "listOfAttributes = ['abuso_sexual_crack', 'F8ABC', 'M_doencas', 'E10_emprego', 'G10_cor_pele', 'p11_a', 'd17', 'hiv', 'g08']\n",
    "\n",
    "OneHotEncoding(listOfAttributes)"
   ]
  },
  {
   "cell_type": "markdown",
   "metadata": {},
   "source": [
    "----"
   ]
  },
  {
   "cell_type": "code",
   "execution_count": 319,
   "metadata": {},
   "outputs": [],
   "source": [
    "dfTreino.to_csv('../../Database/402_TreinoDatabase.csv')\n",
    "dfTeste.to_csv('../../Database/402_TesteDatabase.csv')"
   ]
  },
  {
   "cell_type": "markdown",
   "metadata": {},
   "source": [
    "----"
   ]
  }
 ],
 "metadata": {
  "kernelspec": {
   "display_name": "Python 3",
   "language": "python",
   "name": "python3"
  },
  "language_info": {
   "codemirror_mode": {
    "name": "ipython",
    "version": 3
   },
   "file_extension": ".py",
   "mimetype": "text/x-python",
   "name": "python",
   "nbconvert_exporter": "python",
   "pygments_lexer": "ipython3",
   "version": "3.6.4"
  }
 },
 "nbformat": 4,
 "nbformat_minor": 2
}
